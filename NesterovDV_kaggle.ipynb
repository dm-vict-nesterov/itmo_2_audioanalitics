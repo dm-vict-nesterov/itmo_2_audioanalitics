{
 "cells": [
  {
   "cell_type": "code",
   "execution_count": 1,
   "id": "06e6bf88",
   "metadata": {
    "execution": {
     "iopub.execute_input": "2022-07-02T06:31:05.575184Z",
     "iopub.status.busy": "2022-07-02T06:31:05.574680Z",
     "iopub.status.idle": "2022-07-02T06:31:08.349521Z",
     "shell.execute_reply": "2022-07-02T06:31:08.348468Z"
    },
    "papermill": {
     "duration": 2.78344,
     "end_time": "2022-07-02T06:31:08.351737",
     "exception": false,
     "start_time": "2022-07-02T06:31:05.568297",
     "status": "completed"
    },
    "tags": []
   },
   "outputs": [
    {
     "name": "stdout",
     "output_type": "stream",
     "text": [
      "Train : 5683 files\n",
      "Augment : 5980 files\n",
      "Augment : 4100 files\n"
     ]
    }
   ],
   "source": [
    "from pathlib import Path\n",
    "import pandas as pd\n",
    "from sklearn.preprocessing import OrdinalEncoder\n",
    "from sklearn import model_selection\n",
    "import numpy as np\n",
    "import random\n",
    "import torch \n",
    "\n",
    "IS_FIRST_RUN = True\n",
    "\n",
    "AUGMENT_ROOT = Path(\"../input/edaugment/aug\")\n",
    "AUGMENT_ROOT_2 = Path(\"../input/clear-augment/content/audio_train/aug\")\n",
    "TRAIN_ROOT = Path(\"../input/itmo-acoustic-event-detection-2022/audio_train/train\")\n",
    "TEST_ROOT = Path(\"../input/itmo-acoustic-event-detection-2022/audio_test\")\n",
    "\n",
    "WORK_DIR = Path(\"feats\")\n",
    "WORK_DIR.mkdir(exist_ok=True)\n",
    "PICKLE_DS = WORK_DIR / \"../pickle_ds.csv\"\n",
    "\n",
    "SUBMISION_PATH = TEST_ROOT / \"../sample_submission.csv\"\n",
    "\n",
    "\n",
    "aug_list = pd.read_csv(AUGMENT_ROOT / \"x2augmented.csv\")\n",
    "aug_list[\"type\"] = \"aug\"\n",
    "func = lambda x: str(AUGMENT_ROOT / x)\n",
    "aug_list[\"fname\"] = aug_list.fname.apply(func)\n",
    "\n",
    "aug_list_2 = pd.read_csv(\"../input/clear-augment/content/aug.csv\")\n",
    "aug_list_2[\"type\"] = \"aug\"\n",
    "aug_list_2[\"label\"] = aug_list_2[\"label\"].apply(lambda x: x[3:-3])\n",
    "func = lambda x: str(AUGMENT_ROOT_2 / x)\n",
    "aug_list_2[\"fname\"] = aug_list_2.fname.apply(func)\n",
    "\n",
    "train_list = pd.read_csv(TRAIN_ROOT / \"../../train.csv\")\n",
    "train_list[\"type\"] = \"orig\"\n",
    "func = lambda x: str(TRAIN_ROOT / x)\n",
    "train_list[\"fname\"] = train_list.fname.apply(func)\n",
    "\n",
    "print(f\"Train : {train_list.shape[0]} files\")\n",
    "print(f\"Augment : {aug_list.shape[0]} files\")\n",
    "print(f\"Augment : {aug_list_2.shape[0]} files\")\n",
    "\n",
    "# dataset = pd.concat((train_list), ignore_index=True)\n",
    "dataset = train_list\n",
    "\n",
    "label_transformer = OrdinalEncoder()\n",
    "dataset[\"int_label\"] = label_transformer.fit_transform(dataset.label.to_numpy()[:, np.newaxis])[:, 0].astype(int)\n",
    "\n",
    "submission = pd.read_csv(SUBMISION_PATH)\n",
    "submission[\"name\"] = submission[\"fname\"]\n",
    "func = lambda x: str(TEST_ROOT/\"test\" / x)\n",
    "submission[\"fname\"] = submission.fname.apply(func)\n",
    "submission[\"int_label\"] = -1\n",
    "submission[\"type\"] = \"orig\""
   ]
  },
  {
   "cell_type": "code",
   "execution_count": 2,
   "id": "10f24048",
   "metadata": {
    "execution": {
     "iopub.execute_input": "2022-07-02T06:31:08.362673Z",
     "iopub.status.busy": "2022-07-02T06:31:08.361428Z",
     "iopub.status.idle": "2022-07-02T06:31:08.517054Z",
     "shell.execute_reply": "2022-07-02T06:31:08.515996Z"
    },
    "papermill": {
     "duration": 0.162831,
     "end_time": "2022-07-02T06:31:08.519357",
     "exception": false,
     "start_time": "2022-07-02T06:31:08.356526",
     "status": "completed"
    },
    "tags": []
   },
   "outputs": [],
   "source": [
    "import torch\n",
    "import torchaudio\n",
    "from torch.utils.data import Dataset\n",
    "import pickle\n",
    "import torchaudio.transforms as T\n",
    "\n",
    "class EventDetectionDataset(Dataset):\n",
    "\n",
    "    def __init__(self, feats_list, feats_len, need_augment=True):\n",
    "        self.feats = []\n",
    "        self.labels = []\n",
    "        self.feats_len = feats_len\n",
    "        for feats, label in feats_list:\n",
    "            self.feats.append(feats)\n",
    "            self.labels.append(label)\n",
    "        self.labels = torch.Tensor(self.labels).long()\n",
    "        self.n_samples = len(self.feats)\n",
    "        self.aug = need_augment\n",
    "        \n",
    "    def __len__(self):\n",
    "        return self.n_samples\n",
    "    \n",
    "    def __getitem__(self, idx):\n",
    "        with open(self.feats[idx], \"rb\") as f:\n",
    "            feats = pickle.load(f)\n",
    "        if feats.shape[1] > self.feats_len:\n",
    "            feats = feats[:, :self.feats_len]\n",
    "        else:\n",
    "#             tmp = np.zeros((128, self.feats_len))\n",
    "#             tmp[:, :feats.shape[1]] = feats\n",
    "#             feats = tmp\n",
    "            feats = [feats for _ in range(int(self.feats_len / feats.shape[1]) + 1)]\n",
    "            feats = np.concatenate(feats, axis=1)[:, :self.feats_len]\n",
    "        feats = np.nan_to_num(feats, copy=True, nan=0.0, posinf=10, neginf=-10)\n",
    "        feats = torch.from_numpy(feats).float()\n",
    "    \n",
    "        if np.random.uniform() < 0.05 and self.aug:\n",
    "            feats = self.masking(feats)\n",
    "        return feats[None, :, :], self.labels[idx]\n",
    "\n",
    "    @staticmethod\n",
    "    def train_test_split(files_list, train_len_feats=300, test_len_feats=2000, \n",
    "                           train_size=0.7, feats_dir=WORK_DIR, need_feets=True):\n",
    "        out_ds = []\n",
    "        feats_train = []\n",
    "        feats_test = []\n",
    "        labels = files_list.int_label.unique()\n",
    "        for label in labels:\n",
    "            scope = files_list[files_list.int_label == label]\n",
    "            n_test_items = int(scope.shape[0] * (1 - train_size))\n",
    "            for idx, row in scope.iterrows():\n",
    "                if \"_SC%\" in row.fname:\n",
    "                    continue\n",
    "                feats_list = feats_train\n",
    "                if np.random.uniform() > train_size:\n",
    "                    n_test_items -= 1\n",
    "                    feats_list = feats_test\n",
    "                if need_feets:\n",
    "                    feats = EventDetectionDataset.get_feats(*torchaudio.load(row.fname)).numpy()\n",
    "                    if feats.shape[1] == 0:\n",
    "                        continue\n",
    "                    out_feats_d =  feats_dir / Path(row.fname).name\n",
    "                    with open(out_feats_d, \"wb\") as f:\n",
    "                        pickle.dump(feats, f)\n",
    "                else:\n",
    "                    out_feats_d =  feats_dir / Path(row.fname).name\n",
    "                \n",
    "                feats_list.append((out_feats_d, row.int_label))\n",
    "                \n",
    "                tmp = {\n",
    "                    \"pikle\" : str(out_feats_d),\n",
    "                    \"label\" : row.label,\n",
    "                    \"int_label\": row.int_label,\n",
    "                    \"type\" : row.type\n",
    "                }\n",
    "                out_ds.append(tmp)\n",
    "        \n",
    "        out_ds = pd.DataFrame(out_ds)\n",
    "        train_dataset = EventDetectionDataset(feats_train, train_len_feats)\n",
    "        test_dataset = EventDetectionDataset(feats_test, test_len_feats, need_augment=False)\n",
    "        return train_dataset, test_dataset, out_ds\n",
    "    \n",
    "    @staticmethod\n",
    "    def get_feats(wav, sr):\n",
    "        melSpec = torchaudio.transforms.MelSpectrogram(sr)\n",
    "        spec = torch.log(melSpec(wav))\n",
    "        \n",
    "        return spec[0]\n",
    "    def masking(self, feats):\n",
    "        if np.random.uniform() > 0.5:\n",
    "            x_start = np.random.randint(0, feats.shape[0]//2)\n",
    "            x_end = np.random.randint(x_start, feats.shape[0]//2) * np.random.randint(1, 2)\n",
    "            x_start = x_start * np.random.randint(1, 2)\n",
    "            feats[x_start:x_end] = 0\n",
    "        else:\n",
    "            y_start = np.random.randint(0, feats.shape[1]//2)\n",
    "            y_end = np.random.randint(y_start, feats.shape[1]//2) * np.random.randint(1, 2)\n",
    "            y_start = y_start * np.random.randint(1, 2)\n",
    "            feats[:, y_start:y_end] = 0\n",
    "        return feats"
   ]
  },
  {
   "cell_type": "code",
   "execution_count": 3,
   "id": "c3982052",
   "metadata": {
    "execution": {
     "iopub.execute_input": "2022-07-02T06:31:08.529377Z",
     "iopub.status.busy": "2022-07-02T06:31:08.529088Z",
     "iopub.status.idle": "2022-07-02T06:33:44.192751Z",
     "shell.execute_reply": "2022-07-02T06:33:44.191776Z"
    },
    "papermill": {
     "duration": 155.671749,
     "end_time": "2022-07-02T06:33:44.195183",
     "exception": false,
     "start_time": "2022-07-02T06:31:08.523434",
     "status": "completed"
    },
    "tags": []
   },
   "outputs": [
    {
     "name": "stderr",
     "output_type": "stream",
     "text": [
      "/opt/conda/lib/python3.7/site-packages/torchaudio/functional/functional.py:508: UserWarning: At least one mel filterbank has all zero values. The value for `n_mels` (128) may be set too high. Or, the value for `n_freqs` (201) may be set too low.\n",
      "  \"At least one mel filterbank has all zero values. \"\n"
     ]
    }
   ],
   "source": [
    "%timeit\n",
    "np.random.seed(42)\n",
    "from copy import deepcopy\n",
    "# dataset = dataset[dataset[\"type\"] == \"orig\"]\n",
    "train_ds, test_ds, new_ds = EventDetectionDataset.train_test_split(dataset,\n",
    "                                                                   train_len_feats=200,\n",
    "                                                                   test_len_feats=300,\n",
    "                                                                   train_size=0.8, \n",
    "                                                                   need_feets=IS_FIRST_RUN)\n",
    "\n",
    "IS_FIRST_RUN = False"
   ]
  },
  {
   "cell_type": "code",
   "execution_count": 4,
   "id": "b48f8df9",
   "metadata": {
    "execution": {
     "iopub.execute_input": "2022-07-02T06:33:44.205806Z",
     "iopub.status.busy": "2022-07-02T06:33:44.205481Z",
     "iopub.status.idle": "2022-07-02T06:33:44.229942Z",
     "shell.execute_reply": "2022-07-02T06:33:44.228994Z"
    },
    "papermill": {
     "duration": 0.032218,
     "end_time": "2022-07-02T06:33:44.231985",
     "exception": false,
     "start_time": "2022-07-02T06:33:44.199767",
     "status": "completed"
    },
    "tags": []
   },
   "outputs": [],
   "source": [
    "import torch.nn as nn\n",
    "import torch.nn.functional as F\n",
    "from torch.autograd import Variable\n",
    "import math\n",
    "\n",
    "def weights_init_normal(m):\n",
    "    if isinstance(m, nn.Conv2d):\n",
    "        nn.init.kaiming_uniform_(m.weight.data,nonlinearity='relu')\n",
    "        if m.bias is not None:\n",
    "            nn.init.constant_(m.bias.data, 0)\n",
    "        # ...\n",
    "    elif isinstance(m, nn.BatchNorm2d):\n",
    "        # nn.init.constant_(m.weight.data, 1)\n",
    "        # nn.init.constant_(m.bias.data, 0)\n",
    "        ...\n",
    "    elif isinstance(m, nn.Linear):\n",
    "        nn.init.kaiming_uniform_(m.weight.data)\n",
    "        nn.init.constant_(m.bias.data, 0)\n",
    "class AAMSoftmaxLoss(nn.Module):\n",
    "    # Additive angular margin softmax loss\n",
    "\n",
    "    def __init__(self, nOut, nClasses, margin=0.3, scale=15, easy_margin=False, **kwargs):\n",
    "        super(AAMSoftmaxLoss, self).__init__()\n",
    "\n",
    "        self.test_normalize = True\n",
    "        \n",
    "        self.m = margin\n",
    "        self.s = scale\n",
    "        self.in_feats = nOut\n",
    "        self.weight = nn.Parameter(torch.FloatTensor(nClasses, nOut), requires_grad=True)\n",
    "        self.ce = nn.CrossEntropyLoss()\n",
    "        \n",
    "        nn.init.xavier_normal_(self.weight, gain=1)\n",
    "\n",
    "        self.easy_margin = easy_margin\n",
    "        self.cos_m = math.cos(self.m)\n",
    "        self.sin_m = math.sin(self.m)\n",
    "\n",
    "        # Make the function cos(theta+m) monotonic decreasing while theta in [0°, 180°]\n",
    "        self.th = math.cos(math.pi - self.m)\n",
    "        self.mm = math.sin(math.pi - self.m)*self.m\n",
    "\n",
    "        print('Initialised AAM softmax margin %.3f scale %.3f.'%(self.m,self.s))\n",
    "\n",
    "    def forward(self, x, label=None):\n",
    "\n",
    "        assert x.size()[0] == label.size()[0]\n",
    "        assert x.size()[1] == self.in_feats\n",
    "        \n",
    "        # cos(theta)\n",
    "        cosine = F.linear(F.normalize(x), F.normalize(self.weight))\n",
    "        \n",
    "        # cos(theta + m)\n",
    "        sine = torch.sqrt((1.0 - torch.mul(cosine, cosine)).clamp(0, 1))\n",
    "        phi = cosine*self.cos_m - sine*self.sin_m\n",
    "\n",
    "        if self.easy_margin:\n",
    "            phi = torch.where(cosine > 0, phi, cosine)\n",
    "        \n",
    "        else:\n",
    "            phi = torch.where((cosine - self.th) > 0, phi, cosine - self.mm)\n",
    "\n",
    "        one_hot = torch.zeros_like(cosine)\n",
    "        one_hot.scatter_(1, label.view(-1, 1), 1)\n",
    "        output = (one_hot*phi) + ((1.0 - one_hot)*cosine)\n",
    "        output = output*self.s\n",
    "\n",
    "        loss   = self.ce(output, label)\n",
    "        prec1  = cosine.detach()\n",
    "        \n",
    "        return loss, prec1\n",
    "    \n",
    "class MaxOut(nn.Module):\n",
    "    def __init__(self, input_dim, output_dim):\n",
    "        super(MaxOut, self).__init__()\n",
    "        self.left = nn.Linear(input_dim, output_dim)\n",
    "        self.left_norm = nn.BatchNorm1d(output_dim)\n",
    "        self.right = nn.Linear(input_dim, output_dim)\n",
    "        self.right_norm = nn.BatchNorm1d(output_dim)\n",
    "    \n",
    "    def forward(self, x):\n",
    "        left = self.left(x)\n",
    "        left = self.left_norm(left)\n",
    "        right = self.right(x)\n",
    "        right = self.right_norm(right)\n",
    "        \n",
    "        out = torch.max(left, right)\n",
    "        return out\n",
    "        \n",
    "class EDResNet(nn.Module):\n",
    "  \n",
    "    def __init__(self, n_classes=41):\n",
    "        super(EDResNet, self).__init__()\n",
    "        \n",
    "        self.cnn1 = nn.Conv2d(in_channels=1, out_channels=3, kernel_size=3, padding=1)\n",
    "        self.cnn1.apply(weights_init_normal)\n",
    "#         self.norm1 = nn.BatchNorm2d(10)\n",
    "        \n",
    "#         self.cnn2 = nn.Conv2d(in_channels=10, out_channels=3, kernel_size=3, padding=1)\n",
    "#         self.cnn2.apply(weights_init_normal)\n",
    "        self.norm2 = nn.BatchNorm2d(3)\n",
    "        \n",
    "#         self.feats = torch.hub.load(\"pytorch/vision:v0.10.0\", \"mnasnet0_5\", pretrained=True)\n",
    "        self.feats = torch.hub.load('pytorch/vision:v0.10.0', 'mobilenet_v2', pretrained=True)\n",
    "#         self.feats = torch.hub.load('pytorch/vision:v0.10.0', 'resnet18', pretrained=True)\n",
    "#         self.feats = EfficientNet.from_pretrained('efficientnet-b0')\n",
    "        self.feats.requires_grad_(False)\n",
    "        \n",
    "#         conv1 = nn.Sequential(\n",
    "#             nn.Conv2d(in_channels=1, out_channels=64, kernel_size=3, \n",
    "#                           padding=3, stride=2, bias=False),\n",
    "#             nn.Dropout(0.1)\n",
    "#         )\n",
    "#         conv1.apply(weights_init_normal)\n",
    "\n",
    "#         fc = nn.Sequential(\n",
    "#             nn.Dropout(0.2, inplace=True),\n",
    "#             nn.Linear(1280, 512)\n",
    "#         )\n",
    "        fc = MaxOut(1280, 512)\n",
    "\n",
    "        fc.apply(weights_init_normal)\n",
    "\n",
    "#         self.feats.conv1 = conv1\n",
    "#         self.feats.conv1.requires_grad_(True)\n",
    "\n",
    "        self.feats.classifier = fc\n",
    "        self.feats.classifier.requires_grad_(True)\n",
    "#         self.feats.fc = fc\n",
    "#         self.feats.fc.requires_grad_(True)\n",
    "\n",
    "    def forward(self, x):\n",
    "        \n",
    "#         preprocessor\n",
    "        x = self.cnn1(x)\n",
    "#         x = F.relu(x)\n",
    "        \n",
    "#         x = self.cnn2(x)\n",
    "        x = F.relu(self.norm2(x))\n",
    "\n",
    "        # feats\n",
    "        x = self.feats(x)\n",
    "#         x = F.relu(self.norm3(x))\n",
    "        x = x.view(x.shape[0], -1)\n",
    "        return x\n"
   ]
  },
  {
   "cell_type": "code",
   "execution_count": 5,
   "id": "9a5c35b4",
   "metadata": {
    "execution": {
     "iopub.execute_input": "2022-07-02T06:33:44.241200Z",
     "iopub.status.busy": "2022-07-02T06:33:44.240939Z",
     "iopub.status.idle": "2022-07-02T06:33:51.875993Z",
     "shell.execute_reply": "2022-07-02T06:33:51.875002Z"
    },
    "papermill": {
     "duration": 7.642154,
     "end_time": "2022-07-02T06:33:51.878323",
     "exception": false,
     "start_time": "2022-07-02T06:33:44.236169",
     "status": "completed"
    },
    "tags": []
   },
   "outputs": [
    {
     "name": "stderr",
     "output_type": "stream",
     "text": [
      "Downloading: \"https://github.com/pytorch/vision/archive/v0.10.0.zip\" to /root/.cache/torch/hub/v0.10.0.zip\n",
      "Downloading: \"https://download.pytorch.org/models/mobilenet_v2-b0353104.pth\" to /root/.cache/torch/hub/checkpoints/mobilenet_v2-b0353104.pth\n"
     ]
    },
    {
     "data": {
      "application/vnd.jupyter.widget-view+json": {
       "model_id": "cd32f9b5497b48c8a6854d4045152a92",
       "version_major": 2,
       "version_minor": 0
      },
      "text/plain": [
       "  0%|          | 0.00/13.6M [00:00<?, ?B/s]"
      ]
     },
     "metadata": {},
     "output_type": "display_data"
    }
   ],
   "source": [
    "device = torch.device(\"cuda\" if torch.cuda.is_available() else \"cpu\")\n",
    "Torch_model = WORK_DIR / \"../model.pt\"\n",
    "\n",
    "random.seed(42)\n",
    "np.random.seed(42)\n",
    "torch.manual_seed(42)\n",
    "torch.cuda.manual_seed(42)\n",
    "torch.backends.cudnn.deterministic = True\n",
    "\n",
    "model = EDResNet()\n",
    "model.to(device);"
   ]
  },
  {
   "cell_type": "code",
   "execution_count": 6,
   "id": "65b638d7",
   "metadata": {
    "execution": {
     "iopub.execute_input": "2022-07-02T06:33:51.887963Z",
     "iopub.status.busy": "2022-07-02T06:33:51.887681Z",
     "iopub.status.idle": "2022-07-02T06:33:51.891984Z",
     "shell.execute_reply": "2022-07-02T06:33:51.891063Z"
    },
    "papermill": {
     "duration": 0.011179,
     "end_time": "2022-07-02T06:33:51.893864",
     "exception": false,
     "start_time": "2022-07-02T06:33:51.882685",
     "status": "completed"
    },
    "tags": []
   },
   "outputs": [],
   "source": [
    "f1_max = 0\n",
    "acc_max = 0"
   ]
  },
  {
   "cell_type": "code",
   "execution_count": 7,
   "id": "e3106ded",
   "metadata": {
    "execution": {
     "iopub.execute_input": "2022-07-02T06:33:51.904248Z",
     "iopub.status.busy": "2022-07-02T06:33:51.902718Z",
     "iopub.status.idle": "2022-07-02T06:33:51.916571Z",
     "shell.execute_reply": "2022-07-02T06:33:51.915167Z"
    },
    "papermill": {
     "duration": 0.02139,
     "end_time": "2022-07-02T06:33:51.919146",
     "exception": false,
     "start_time": "2022-07-02T06:33:51.897756",
     "status": "completed"
    },
    "tags": []
   },
   "outputs": [
    {
     "name": "stdout",
     "output_type": "stream",
     "text": [
      "Initialised AAM softmax margin 0.300 scale 15.000.\n"
     ]
    }
   ],
   "source": [
    "from torch.utils.data import DataLoader\n",
    "\n",
    "\n",
    "# loss_fn = nn.CrossEntropyLoss()\n",
    "loss_fn = AAMSoftmaxLoss(512, 41).to(device)\n",
    "\n",
    "optimizer = torch.optim.Adam(model.parameters(), lr=0.003, weight_decay=0.0001)\n",
    "\n",
    "epoches = 60\n",
    "batch_size = 128\n",
    "\n",
    "train_loader = DataLoader(train_ds, batch_size=batch_size, shuffle=True, \n",
    "                          drop_last=True)\n",
    "test_loader = DataLoader(test_ds, batch_size=128, shuffle=True)\n",
    "\n",
    "steps_per_epoch = int(np.ceil(len(train_loader.dataset) / batch_size))\n",
    "\n",
    "\n",
    "sheduler = torch.optim.lr_scheduler.ExponentialLR(optimizer, 0.97)\n",
    "\n",
    "\n",
    "loss_curve = []\n",
    "f1_curve = []\n",
    "acc_curve = []\n",
    "\n",
    "long_f1_curve = []\n",
    "long_acc_curve = []\n",
    "\n",
    "train_f1_curve = []\n",
    "train_acc_curve = []\n",
    "\n",
    "lr_curve = []\n",
    "test_loss_curve = []\n"
   ]
  },
  {
   "cell_type": "code",
   "execution_count": 8,
   "id": "4e66ad05",
   "metadata": {
    "execution": {
     "iopub.execute_input": "2022-07-02T06:33:51.931274Z",
     "iopub.status.busy": "2022-07-02T06:33:51.930622Z",
     "iopub.status.idle": "2022-07-02T06:44:24.408999Z",
     "shell.execute_reply": "2022-07-02T06:44:24.408087Z"
    },
    "papermill": {
     "duration": 632.48697,
     "end_time": "2022-07-02T06:44:24.410962",
     "exception": false,
     "start_time": "2022-07-02T06:33:51.923992",
     "status": "completed"
    },
    "tags": []
   },
   "outputs": [
    {
     "name": "stderr",
     "output_type": "stream",
     "text": [
      "  2%|▏         | 1/60 [00:15<15:02, 15.29s/it]"
     ]
    },
    {
     "name": "stdout",
     "output_type": "stream",
     "text": [
      "Last F1 test 0.4664933470593861 : Last F1 train 0.3700175909883696 : Train loss 6.189143003736223 : Test loss 5.661709043714735\n"
     ]
    },
    {
     "name": "stderr",
     "output_type": "stream",
     "text": [
      "  3%|▎         | 2/60 [00:24<11:08, 11.53s/it]"
     ]
    },
    {
     "name": "stdout",
     "output_type": "stream",
     "text": [
      "Last F1 test 0.5404604076805151 : Last F1 train 0.6360403728426938 : Train loss 4.375991712297712 : Test loss 5.01820182800293\n"
     ]
    },
    {
     "name": "stderr",
     "output_type": "stream",
     "text": [
      "  5%|▌         | 3/60 [00:32<09:43, 10.23s/it]"
     ]
    },
    {
     "name": "stdout",
     "output_type": "stream",
     "text": [
      "Last F1 test 0.545115995714486 : Last F1 train 0.7250696958351949 : Train loss 3.696674306052072 : Test loss 5.02704217698839\n"
     ]
    },
    {
     "name": "stderr",
     "output_type": "stream",
     "text": [
      "  7%|▋         | 4/60 [00:41<08:58,  9.61s/it]"
     ]
    },
    {
     "name": "stdout",
     "output_type": "stream",
     "text": [
      "Last F1 test 0.568108596735454 : Last F1 train 0.7798874809275496 : Train loss 3.2882903371538434 : Test loss 4.847502284579807\n"
     ]
    },
    {
     "name": "stderr",
     "output_type": "stream",
     "text": [
      "  8%|▊         | 5/60 [00:50<08:29,  9.27s/it]"
     ]
    },
    {
     "name": "stdout",
     "output_type": "stream",
     "text": [
      "Last F1 test 0.5701115350782007 : Last F1 train 0.8236287785517744 : Train loss 2.9072681971958705 : Test loss 4.916276031070286\n"
     ]
    },
    {
     "name": "stderr",
     "output_type": "stream",
     "text": [
      " 10%|█         | 6/60 [00:59<08:12,  9.12s/it]"
     ]
    },
    {
     "name": "stdout",
     "output_type": "stream",
     "text": [
      "Last F1 test 0.5695902672125162 : Last F1 train 0.8587676297714031 : Train loss 2.5699147190366474 : Test loss 4.831539789835612\n"
     ]
    },
    {
     "name": "stderr",
     "output_type": "stream",
     "text": [
      " 12%|█▏        | 7/60 [01:09<08:31,  9.65s/it]"
     ]
    },
    {
     "name": "stdout",
     "output_type": "stream",
     "text": [
      "Last F1 test 0.4609818038821835 : Last F1 train 0.4149137969632294 : Train loss 5.778903811318534 : Test loss 5.296030892266168\n"
     ]
    },
    {
     "name": "stderr",
     "output_type": "stream",
     "text": [
      " 13%|█▎        | 8/60 [01:20<08:36,  9.94s/it]"
     ]
    },
    {
     "name": "stdout",
     "output_type": "stream",
     "text": [
      "Last F1 test 0.53646794808651 : Last F1 train 0.6420406329128352 : Train loss 3.8494235447474887 : Test loss 4.439804289076063\n"
     ]
    },
    {
     "name": "stderr",
     "output_type": "stream",
     "text": [
      " 15%|█▌        | 9/60 [01:31<08:42, 10.25s/it]"
     ]
    },
    {
     "name": "stdout",
     "output_type": "stream",
     "text": [
      "Last F1 test 0.6084347133163144 : Last F1 train 0.6848552324193785 : Train loss 3.3028341225215367 : Test loss 4.0015157328711615\n"
     ]
    },
    {
     "name": "stderr",
     "output_type": "stream",
     "text": [
      " 17%|█▋        | 10/60 [01:41<08:39, 10.38s/it]"
     ]
    },
    {
     "name": "stdout",
     "output_type": "stream",
     "text": [
      "Last F1 test 0.623033435862533 : Last F1 train 0.7439182024970564 : Train loss 2.734001248223441 : Test loss 3.9429484473334417\n"
     ]
    },
    {
     "name": "stderr",
     "output_type": "stream",
     "text": [
      " 18%|█▊        | 11/60 [01:52<08:33, 10.48s/it]"
     ]
    },
    {
     "name": "stdout",
     "output_type": "stream",
     "text": [
      "Last F1 test 0.6719345256983218 : Last F1 train 0.7995666516580656 : Train loss 2.2074866907937185 : Test loss 3.807314051522149\n"
     ]
    },
    {
     "name": "stderr",
     "output_type": "stream",
     "text": [
      " 20%|██        | 12/60 [02:03<08:27, 10.58s/it]"
     ]
    },
    {
     "name": "stdout",
     "output_type": "stream",
     "text": [
      "Last F1 test 0.5999739069698486 : Last F1 train 0.8169504956401462 : Train loss 2.052350378036499 : Test loss 4.101943757798937\n"
     ]
    },
    {
     "name": "stderr",
     "output_type": "stream",
     "text": [
      " 22%|██▏       | 13/60 [02:14<08:18, 10.60s/it]"
     ]
    },
    {
     "name": "stdout",
     "output_type": "stream",
     "text": [
      "Last F1 test 0.6828650912235505 : Last F1 train 0.8406069085282363 : Train loss 1.7820607968739102 : Test loss 3.373532851537069\n"
     ]
    },
    {
     "name": "stderr",
     "output_type": "stream",
     "text": [
      " 23%|██▎       | 14/60 [02:24<08:07, 10.60s/it]"
     ]
    },
    {
     "name": "stdout",
     "output_type": "stream",
     "text": [
      "Last F1 test 0.6482222717000163 : Last F1 train 0.8710951436864404 : Train loss 1.4565951211111887 : Test loss 3.9740109973483615\n"
     ]
    },
    {
     "name": "stderr",
     "output_type": "stream",
     "text": [
      " 25%|██▌       | 15/60 [02:35<08:04, 10.76s/it]"
     ]
    },
    {
     "name": "stdout",
     "output_type": "stream",
     "text": [
      "Last F1 test 0.730801617324117 : Last F1 train 0.8837828584124904 : Train loss 1.3155741947037833 : Test loss 2.989163637161255\n"
     ]
    },
    {
     "name": "stderr",
     "output_type": "stream",
     "text": [
      " 27%|██▋       | 16/60 [02:46<07:52, 10.74s/it]"
     ]
    },
    {
     "name": "stdout",
     "output_type": "stream",
     "text": [
      "Last F1 test 0.7391079401164016 : Last F1 train 0.9044397878275827 : Train loss 1.0839936460767474 : Test loss 2.9975046846601696\n"
     ]
    },
    {
     "name": "stderr",
     "output_type": "stream",
     "text": [
      " 28%|██▊       | 17/60 [02:57<07:40, 10.71s/it]"
     ]
    },
    {
     "name": "stdout",
     "output_type": "stream",
     "text": [
      "Last F1 test 0.7055232008132747 : Last F1 train 0.9162746463837903 : Train loss 0.9788673528603145 : Test loss 3.256298859914144\n"
     ]
    },
    {
     "name": "stderr",
     "output_type": "stream",
     "text": [
      " 30%|███       | 18/60 [03:07<07:29, 10.70s/it]"
     ]
    },
    {
     "name": "stdout",
     "output_type": "stream",
     "text": [
      "Last F1 test 0.7319495209385338 : Last F1 train 0.9205737363701864 : Train loss 0.8757238788264138 : Test loss 2.9880998929341636\n"
     ]
    },
    {
     "name": "stderr",
     "output_type": "stream",
     "text": [
      " 32%|███▏      | 19/60 [03:18<07:20, 10.74s/it]"
     ]
    },
    {
     "name": "stdout",
     "output_type": "stream",
     "text": [
      "Last F1 test 0.7479284683932111 : Last F1 train 0.9451809288286319 : Train loss 0.6775542574269431 : Test loss 2.8400797843933105\n"
     ]
    },
    {
     "name": "stderr",
     "output_type": "stream",
     "text": [
      " 33%|███▎      | 20/60 [03:29<07:07, 10.70s/it]"
     ]
    },
    {
     "name": "stdout",
     "output_type": "stream",
     "text": [
      "Last F1 test 0.7712522837703834 : Last F1 train 0.9491144070914528 : Train loss 0.6022690049239567 : Test loss 2.5622098445892334\n"
     ]
    },
    {
     "name": "stderr",
     "output_type": "stream",
     "text": [
      " 35%|███▌      | 21/60 [03:39<06:55, 10.64s/it]"
     ]
    },
    {
     "name": "stdout",
     "output_type": "stream",
     "text": [
      "Last F1 test 0.7598916082245766 : Last F1 train 0.9502812682307917 : Train loss 0.5417832046747207 : Test loss 2.709399117363824\n"
     ]
    },
    {
     "name": "stderr",
     "output_type": "stream",
     "text": [
      " 37%|███▋      | 22/60 [03:50<06:44, 10.64s/it]"
     ]
    },
    {
     "name": "stdout",
     "output_type": "stream",
     "text": [
      "Last F1 test 0.7413273418062831 : Last F1 train 0.9550554184727036 : Train loss 0.5062660447188786 : Test loss 2.9059378835890026\n"
     ]
    },
    {
     "name": "stderr",
     "output_type": "stream",
     "text": [
      " 38%|███▊      | 23/60 [04:00<06:31, 10.59s/it]"
     ]
    },
    {
     "name": "stdout",
     "output_type": "stream",
     "text": [
      "Last F1 test 0.7684484900319996 : Last F1 train 0.9647272665875392 : Train loss 0.4364182016679219 : Test loss 2.6019303533766003\n"
     ]
    },
    {
     "name": "stderr",
     "output_type": "stream",
     "text": [
      " 40%|████      | 24/60 [04:11<06:20, 10.57s/it]"
     ]
    },
    {
     "name": "stdout",
     "output_type": "stream",
     "text": [
      "Last F1 test 0.7695667065216745 : Last F1 train 0.9741054467752401 : Train loss 0.31869491658040455 : Test loss 2.687155101034376\n"
     ]
    },
    {
     "name": "stderr",
     "output_type": "stream",
     "text": [
      " 42%|████▏     | 25/60 [04:22<06:11, 10.61s/it]"
     ]
    },
    {
     "name": "stdout",
     "output_type": "stream",
     "text": [
      "Last F1 test 0.7729402290807492 : Last F1 train 0.9763441155748805 : Train loss 0.3098932320518153 : Test loss 2.6250645319620767\n"
     ]
    },
    {
     "name": "stderr",
     "output_type": "stream",
     "text": [
      " 43%|████▎     | 26/60 [04:32<05:59, 10.57s/it]"
     ]
    },
    {
     "name": "stdout",
     "output_type": "stream",
     "text": [
      "Last F1 test 0.7676609302774109 : Last F1 train 0.9783326569941545 : Train loss 0.2769446096249989 : Test loss 2.6130968199835882\n"
     ]
    },
    {
     "name": "stderr",
     "output_type": "stream",
     "text": [
      " 45%|████▌     | 27/60 [04:43<05:48, 10.55s/it]"
     ]
    },
    {
     "name": "stdout",
     "output_type": "stream",
     "text": [
      "Last F1 test 0.7659930641018926 : Last F1 train 0.980161338406195 : Train loss 0.24201987619910922 : Test loss 2.6134304205576577\n"
     ]
    },
    {
     "name": "stderr",
     "output_type": "stream",
     "text": [
      " 47%|████▋     | 28/60 [04:53<05:37, 10.55s/it]"
     ]
    },
    {
     "name": "stdout",
     "output_type": "stream",
     "text": [
      "Last F1 test 0.7604729377367715 : Last F1 train 0.9832731244721722 : Train loss 0.22580935103552682 : Test loss 2.900580962498983\n"
     ]
    },
    {
     "name": "stderr",
     "output_type": "stream",
     "text": [
      " 48%|████▊     | 29/60 [05:04<05:26, 10.53s/it]"
     ]
    },
    {
     "name": "stdout",
     "output_type": "stream",
     "text": [
      "Last F1 test 0.7595394817135556 : Last F1 train 0.9787748948568402 : Train loss 0.2539928342614855 : Test loss 2.7742359108395047\n"
     ]
    },
    {
     "name": "stderr",
     "output_type": "stream",
     "text": [
      " 50%|█████     | 30/60 [05:14<05:15, 10.52s/it]"
     ]
    },
    {
     "name": "stdout",
     "output_type": "stream",
     "text": [
      "Last F1 test 0.7719981102693578 : Last F1 train 0.9870429667433486 : Train loss 0.16654975999678884 : Test loss 2.624017741945055\n"
     ]
    },
    {
     "name": "stderr",
     "output_type": "stream",
     "text": [
      " 52%|█████▏    | 31/60 [05:25<05:06, 10.57s/it]"
     ]
    },
    {
     "name": "stdout",
     "output_type": "stream",
     "text": [
      "Last F1 test 0.7815539409517408 : Last F1 train 0.9888563490908296 : Train loss 0.15629090879644666 : Test loss 2.636908027860853\n"
     ]
    },
    {
     "name": "stderr",
     "output_type": "stream",
     "text": [
      " 53%|█████▎    | 32/60 [05:35<04:55, 10.55s/it]"
     ]
    },
    {
     "name": "stdout",
     "output_type": "stream",
     "text": [
      "Last F1 test 0.7616591137700341 : Last F1 train 0.9870588624986173 : Train loss 0.1658664020044463 : Test loss 2.7386437786950006\n"
     ]
    },
    {
     "name": "stderr",
     "output_type": "stream",
     "text": [
      " 55%|█████▌    | 33/60 [05:46<04:44, 10.55s/it]"
     ]
    },
    {
     "name": "stdout",
     "output_type": "stream",
     "text": [
      "Last F1 test 0.7837113576019006 : Last F1 train 0.9910741123138908 : Train loss 0.12737488374114037 : Test loss 2.5479784276750355\n"
     ]
    },
    {
     "name": "stderr",
     "output_type": "stream",
     "text": [
      " 57%|█████▋    | 34/60 [05:56<04:34, 10.57s/it]"
     ]
    },
    {
     "name": "stdout",
     "output_type": "stream",
     "text": [
      "Last F1 test 0.7861918895224109 : Last F1 train 0.9913055321344042 : Train loss 0.1129578122869134 : Test loss 2.4192799727121987\n"
     ]
    },
    {
     "name": "stderr",
     "output_type": "stream",
     "text": [
      " 58%|█████▊    | 35/60 [06:07<04:23, 10.56s/it]"
     ]
    },
    {
     "name": "stdout",
     "output_type": "stream",
     "text": [
      "Last F1 test 0.7875071703630138 : Last F1 train 0.9939762684992224 : Train loss 0.08471064930781722 : Test loss 2.4436894920137195\n"
     ]
    },
    {
     "name": "stderr",
     "output_type": "stream",
     "text": [
      " 60%|██████    | 36/60 [06:18<04:13, 10.55s/it]"
     ]
    },
    {
     "name": "stdout",
     "output_type": "stream",
     "text": [
      "Last F1 test 0.7980507412469169 : Last F1 train 0.9950858171228242 : Train loss 0.07414810922262924 : Test loss 2.4147745768229165\n"
     ]
    },
    {
     "name": "stderr",
     "output_type": "stream",
     "text": [
      " 62%|██████▏   | 37/60 [06:28<04:02, 10.56s/it]"
     ]
    },
    {
     "name": "stdout",
     "output_type": "stream",
     "text": [
      "Last F1 test 0.7892095422029557 : Last F1 train 0.9968742979070815 : Train loss 0.05160146760089057 : Test loss 2.4226618342929416\n"
     ]
    },
    {
     "name": "stderr",
     "output_type": "stream",
     "text": [
      " 63%|██████▎   | 38/60 [06:39<03:52, 10.58s/it]"
     ]
    },
    {
     "name": "stdout",
     "output_type": "stream",
     "text": [
      "Last F1 test 0.7850752160780132 : Last F1 train 0.9955419649045781 : Train loss 0.06280205712786742 : Test loss 2.466549184587267\n"
     ]
    },
    {
     "name": "stderr",
     "output_type": "stream",
     "text": [
      " 65%|██████▌   | 39/60 [06:49<03:42, 10.58s/it]"
     ]
    },
    {
     "name": "stdout",
     "output_type": "stream",
     "text": [
      "Last F1 test 0.8025927920924854 : Last F1 train 0.9950987654011249 : Train loss 0.07622094774352653 : Test loss 2.4027515252431235\n"
     ]
    },
    {
     "name": "stderr",
     "output_type": "stream",
     "text": [
      " 67%|██████▋   | 40/60 [07:00<03:31, 10.59s/it]"
     ]
    },
    {
     "name": "stdout",
     "output_type": "stream",
     "text": [
      "Last F1 test 0.7952495394089958 : Last F1 train 0.9957599630516591 : Train loss 0.06330695314598934 : Test loss 2.401976373460558\n"
     ]
    },
    {
     "name": "stderr",
     "output_type": "stream",
     "text": [
      " 68%|██████▊   | 41/60 [07:11<03:21, 10.59s/it]"
     ]
    },
    {
     "name": "stdout",
     "output_type": "stream",
     "text": [
      "Last F1 test 0.8088199844471253 : Last F1 train 0.9975406896734116 : Train loss 0.04749411264700549 : Test loss 2.234807637002733\n"
     ]
    },
    {
     "name": "stderr",
     "output_type": "stream",
     "text": [
      " 70%|███████   | 42/60 [07:21<03:10, 10.56s/it]"
     ]
    },
    {
     "name": "stdout",
     "output_type": "stream",
     "text": [
      "Last F1 test 0.8076598610148428 : Last F1 train 0.9982136952631978 : Train loss 0.03279189937748015 : Test loss 2.283287856313917\n"
     ]
    },
    {
     "name": "stderr",
     "output_type": "stream",
     "text": [
      " 72%|███████▏  | 43/60 [07:32<02:59, 10.57s/it]"
     ]
    },
    {
     "name": "stdout",
     "output_type": "stream",
     "text": [
      "Last F1 test 0.8115880109433322 : Last F1 train 0.9979902671790545 : Train loss 0.029781826339395984 : Test loss 2.2270606491300793\n"
     ]
    },
    {
     "name": "stderr",
     "output_type": "stream",
     "text": [
      " 73%|███████▎  | 44/60 [07:42<02:49, 10.61s/it]"
     ]
    },
    {
     "name": "stdout",
     "output_type": "stream",
     "text": [
      "Last F1 test 0.8058107276353462 : Last F1 train 0.9979897388193206 : Train loss 0.0313397801714018 : Test loss 2.288216577635871\n"
     ]
    },
    {
     "name": "stderr",
     "output_type": "stream",
     "text": [
      " 75%|███████▌  | 45/60 [07:53<02:38, 10.56s/it]"
     ]
    },
    {
     "name": "stdout",
     "output_type": "stream",
     "text": [
      "Last F1 test 0.807884704215658 : Last F1 train 0.9968735666116659 : Train loss 0.04183944116479584 : Test loss 2.3075039784113565\n"
     ]
    },
    {
     "name": "stderr",
     "output_type": "stream",
     "text": [
      " 77%|███████▋  | 46/60 [08:03<02:27, 10.55s/it]"
     ]
    },
    {
     "name": "stdout",
     "output_type": "stream",
     "text": [
      "Last F1 test 0.8005341471269515 : Last F1 train 0.9979921909447388 : Train loss 0.03559227776048439 : Test loss 2.397665950987074\n"
     ]
    },
    {
     "name": "stderr",
     "output_type": "stream",
     "text": [
      " 78%|███████▊  | 47/60 [08:14<02:17, 10.58s/it]"
     ]
    },
    {
     "name": "stdout",
     "output_type": "stream",
     "text": [
      "Last F1 test 0.8130311913541203 : Last F1 train 0.9975449885933878 : Train loss 0.02931747982012374 : Test loss 2.2385335895750256\n"
     ]
    },
    {
     "name": "stderr",
     "output_type": "stream",
     "text": [
      " 80%|████████  | 48/60 [08:25<02:07, 10.59s/it]"
     ]
    },
    {
     "name": "stdout",
     "output_type": "stream",
     "text": [
      "Last F1 test 0.8164485495833347 : Last F1 train 0.9986599078085252 : Train loss 0.025155827928600567 : Test loss 2.196690652105543\n"
     ]
    },
    {
     "name": "stderr",
     "output_type": "stream",
     "text": [
      " 82%|████████▏ | 49/60 [08:35<01:56, 10.56s/it]"
     ]
    },
    {
     "name": "stdout",
     "output_type": "stream",
     "text": [
      "Last F1 test 0.8036241650734154 : Last F1 train 0.9982147993249352 : Train loss 0.026202928580875907 : Test loss 2.324049631754557\n"
     ]
    },
    {
     "name": "stderr",
     "output_type": "stream",
     "text": [
      " 83%|████████▎ | 50/60 [08:46<01:45, 10.57s/it]"
     ]
    },
    {
     "name": "stdout",
     "output_type": "stream",
     "text": [
      "Last F1 test 0.7959510146757836 : Last F1 train 0.997541629982069 : Train loss 0.03464958060898685 : Test loss 2.466657373640272\n"
     ]
    },
    {
     "name": "stderr",
     "output_type": "stream",
     "text": [
      " 85%|████████▌ | 51/60 [08:56<01:34, 10.55s/it]"
     ]
    },
    {
     "name": "stdout",
     "output_type": "stream",
     "text": [
      "Last F1 test 0.808977750922845 : Last F1 train 0.9982140673586631 : Train loss 0.0328776109298425 : Test loss 2.2842793332205877\n"
     ]
    },
    {
     "name": "stderr",
     "output_type": "stream",
     "text": [
      " 87%|████████▋ | 52/60 [09:07<01:24, 10.52s/it]"
     ]
    },
    {
     "name": "stdout",
     "output_type": "stream",
     "text": [
      "Last F1 test 0.8071920137965093 : Last F1 train 0.9975458352042945 : Train loss 0.03769596895602133 : Test loss 2.333862370914883\n"
     ]
    },
    {
     "name": "stderr",
     "output_type": "stream",
     "text": [
      " 88%|████████▊ | 53/60 [09:17<01:13, 10.54s/it]"
     ]
    },
    {
     "name": "stdout",
     "output_type": "stream",
     "text": [
      "Last F1 test 0.7972028472104149 : Last F1 train 0.996650650466002 : Train loss 0.044142603731182006 : Test loss 2.451691826184591\n"
     ]
    },
    {
     "name": "stderr",
     "output_type": "stream",
     "text": [
      " 90%|█████████ | 54/60 [09:28<01:03, 10.52s/it]"
     ]
    },
    {
     "name": "stdout",
     "output_type": "stream",
     "text": [
      "Last F1 test 0.7907076190911355 : Last F1 train 0.9975471956498164 : Train loss 0.03889816150601421 : Test loss 2.572270817226834\n"
     ]
    },
    {
     "name": "stderr",
     "output_type": "stream",
     "text": [
      " 92%|█████████▏| 55/60 [09:38<00:52, 10.50s/it]"
     ]
    },
    {
     "name": "stdout",
     "output_type": "stream",
     "text": [
      "Last F1 test 0.7904578199861122 : Last F1 train 0.9984358818072936 : Train loss 0.03186292489657977 : Test loss 2.4570455816056995\n"
     ]
    },
    {
     "name": "stderr",
     "output_type": "stream",
     "text": [
      " 93%|█████████▎| 56/60 [09:49<00:42, 10.57s/it]"
     ]
    },
    {
     "name": "stdout",
     "output_type": "stream",
     "text": [
      "Last F1 test 0.8084671118024235 : Last F1 train 0.998216925285112 : Train loss 0.03261599318523492 : Test loss 2.296158936288622\n"
     ]
    },
    {
     "name": "stderr",
     "output_type": "stream",
     "text": [
      " 95%|█████████▌| 57/60 [09:59<00:31, 10.55s/it]"
     ]
    },
    {
     "name": "stdout",
     "output_type": "stream",
     "text": [
      "Last F1 test 0.8012325939569682 : Last F1 train 0.997544305667347 : Train loss 0.037918761472350786 : Test loss 2.3567464616563587\n"
     ]
    },
    {
     "name": "stderr",
     "output_type": "stream",
     "text": [
      " 97%|█████████▋| 58/60 [10:10<00:21, 10.55s/it]"
     ]
    },
    {
     "name": "stdout",
     "output_type": "stream",
     "text": [
      "Last F1 test 0.7949315589964979 : Last F1 train 0.9979925619730168 : Train loss 0.03073931759489434 : Test loss 2.4363384776645236\n"
     ]
    },
    {
     "name": "stderr",
     "output_type": "stream",
     "text": [
      " 98%|█████████▊| 59/60 [10:21<00:10, 10.59s/it]"
     ]
    },
    {
     "name": "stdout",
     "output_type": "stream",
     "text": [
      "Last F1 test 0.7962524412646481 : Last F1 train 0.9977666729413938 : Train loss 0.032346867111378484 : Test loss 2.4715307818518744\n"
     ]
    },
    {
     "name": "stderr",
     "output_type": "stream",
     "text": [
      "100%|██████████| 60/60 [10:31<00:00, 10.53s/it]"
     ]
    },
    {
     "name": "stdout",
     "output_type": "stream",
     "text": [
      "Last F1 test 0.8025144731586318 : Last F1 train 0.9977750434589672 : Train loss 0.032659807541806786 : Test loss 2.3813985188802085\n"
     ]
    },
    {
     "name": "stderr",
     "output_type": "stream",
     "text": [
      "\n"
     ]
    },
    {
     "data": {
      "image/png": "[encoded data removed]",
      "text/plain": [
       "<Figure size 432x288 with 1 Axes>"
      ]
     },
     "metadata": {
      "needs_background": "light"
     },
     "output_type": "display_data"
    },
    {
     "data": {
      "image/png": "[encoded data removed]",
      "text/plain": [
       "<Figure size 432x288 with 1 Axes>"
      ]
     },
     "metadata": {
      "needs_background": "light"
     },
     "output_type": "display_data"
    },
    {
     "data": {
      "image/png": "[encoded data removed]",
      "text/plain": [
       "<Figure size 432x288 with 1 Axes>"
      ]
     },
     "metadata": {
      "needs_background": "light"
     },
     "output_type": "display_data"
    },
    {
     "data": {
      "image/png": "[encoded data removed]",
      "text/plain": [
       "<Figure size 432x288 with 1 Axes>"
      ]
     },
     "metadata": {
      "needs_background": "light"
     },
     "output_type": "display_data"
    },
    {
     "name": "stdout",
     "output_type": "stream",
     "text": [
      "Max Acc : 0.8160919540229885, on 47\n",
      "Max F1 : 0.8164485495833347 on 47\n"
     ]
    },
    {
     "data": {
      "image/png": "[encoded data removed]",
      "text/plain": [
       "<Figure size 432x288 with 1 Axes>"
      ]
     },
     "metadata": {
      "needs_background": "light"
     },
     "output_type": "display_data"
    }
   ],
   "source": [
    "from tqdm import tqdm\n",
    "from sklearn.metrics import f1_score, accuracy_score\n",
    "import matplotlib.pyplot as plt\n",
    "\n",
    "\n",
    "for epoch in tqdm(range(epoches)):\n",
    "    if epoch > 5:\n",
    "        model.feats.requires_grad_(True)\n",
    "# ----------------------------------------------------- TRAIN\n",
    "    model.train()\n",
    "    predicted, true,  loss_in_batch = [], [], []\n",
    "    for X, y in train_loader:\n",
    "        X, y = X.to(device), y.to(device)\n",
    "\n",
    "        pred_t = model(X)\n",
    "        loss, tar = loss_fn(pred_t, y)\n",
    "#         loss = loss_fn(pred_t, y)\n",
    "\n",
    "        # Backpropagation\n",
    "        optimizer.zero_grad()\n",
    "        loss.backward()\n",
    "        optimizer.step()\n",
    "        loss_in_batch.append(loss.item())\n",
    "        \n",
    "        predicted.append(tar.detach().cpu().numpy().argmax(axis=-1))\n",
    "#         predicted.append(pred_t.detach().cpu().numpy().argmax(axis=-1))\n",
    "        true.append(y.detach().cpu().numpy())\n",
    "    \n",
    "    lr_curve.append(sheduler.get_last_lr())\n",
    "    sheduler.step()\n",
    "    \n",
    "    loss_curve.append(sum(loss_in_batch)/len(loss_in_batch))\n",
    "    predicted, true  = np.concatenate(predicted), np.concatenate(true)\n",
    "\n",
    "    train_f1_curve.append(f1_score(true, predicted, average=\"weighted\"))\n",
    "    train_acc_curve.append(accuracy_score(true, predicted))\n",
    "# ----------------------------------------------------------------TEST    \n",
    "    model.eval()\n",
    "    with torch.no_grad():\n",
    "        predicted, true,  loss_in_batch = [], [], []\n",
    "        for X, y in test_loader:\n",
    "            X, y = X.to(device), y.to(device)\n",
    "            \n",
    "            pred_t = model(X)\n",
    "            loss, tar = loss_fn(pred_t, y)\n",
    "#             loss = loss_fn(pred_t, y)\n",
    "            loss_in_batch.append(loss.item()) \n",
    "        \n",
    "            predicted.append(tar.detach().cpu().numpy().argmax(axis=-1))\n",
    "#             predicted.append(pred_t.detach().cpu().numpy().argmax(axis=-1))\n",
    "            true.append(y.detach().cpu().numpy())\n",
    "        \n",
    "        test_loss_curve.append(sum(loss_in_batch)/len(loss_in_batch))\n",
    "    \n",
    "    predicted, true  = np.concatenate(predicted), np.concatenate(true)\n",
    "\n",
    "    f1_curve.append(f1_score(true, predicted, average=\"weighted\"))\n",
    "    acc_curve.append(accuracy_score(true, predicted))\n",
    "    \n",
    "    print(f\"Last F1 test {f1_curve[-1]} : Last F1 train {train_f1_curve[-1]} : Train loss {loss_curve[-1]} : Test loss {test_loss_curve[-1]}\")\n",
    "    if f1_curve[-1] > f1_max or acc_curve[-1] > acc_max:\n",
    "        f1_max = f1_curve[-1]\n",
    "        acc_max = acc_curve[-1]\n",
    "        torch.save(model.state_dict(), Torch_model)\n",
    "    \n",
    "    \n",
    "    \n",
    "plt.plot(loss_curve)\n",
    "plt.title(\"Train loss\")\n",
    "plt.show()\n",
    "\n",
    "plt.plot(lr_curve)\n",
    "plt.title(\"Learning rate\")\n",
    "plt.show()\n",
    "\n",
    "plt.plot(test_loss_curve)\n",
    "plt.title(\"Test loss\")\n",
    "plt.show()\n",
    "\n",
    "plt.plot(f1_curve, label=\"F1\")\n",
    "plt.plot(acc_curve, label=\"Acc\")\n",
    "plt.title(\"test F1 and Acc\")\n",
    "plt.legend()\n",
    "plt.show()\n",
    "\n",
    "plt.plot(train_f1_curve, label=\"F1\")\n",
    "plt.plot(train_acc_curve, label=\"Acc\")\n",
    "plt.title(\"train F1 and Acc\")\n",
    "plt.legend()\n",
    "\n",
    "print(f\"Max Acc : {max(acc_curve)}, on {acc_curve.index(max(acc_curve))}\")\n",
    "print(f\"Max F1 : {max(f1_curve)} on {f1_curve.index(max(f1_curve))}\")"
   ]
  },
  {
   "cell_type": "code",
   "execution_count": 9,
   "id": "f39583db",
   "metadata": {
    "execution": {
     "iopub.execute_input": "2022-07-02T06:44:24.438530Z",
     "iopub.status.busy": "2022-07-02T06:44:24.438224Z",
     "iopub.status.idle": "2022-07-02T06:44:24.760010Z",
     "shell.execute_reply": "2022-07-02T06:44:24.759063Z"
    },
    "papermill": {
     "duration": 0.337432,
     "end_time": "2022-07-02T06:44:24.762190",
     "exception": false,
     "start_time": "2022-07-02T06:44:24.424758",
     "status": "completed"
    },
    "tags": []
   },
   "outputs": [],
   "source": [
    "del X\n",
    "del y\n",
    "del model\n",
    "import gc\n",
    "gc.collect()\n",
    "torch.cuda.empty_cache()"
   ]
  },
  {
   "cell_type": "code",
   "execution_count": 10,
   "id": "56425172",
   "metadata": {
    "execution": {
     "iopub.execute_input": "2022-07-02T06:44:24.789132Z",
     "iopub.status.busy": "2022-07-02T06:44:24.788278Z",
     "iopub.status.idle": "2022-07-02T06:46:30.879053Z",
     "shell.execute_reply": "2022-07-02T06:46:30.878101Z"
    },
    "papermill": {
     "duration": 126.106648,
     "end_time": "2022-07-02T06:46:30.881592",
     "exception": false,
     "start_time": "2022-07-02T06:44:24.774944",
     "status": "completed"
    },
    "tags": []
   },
   "outputs": [
    {
     "name": "stderr",
     "output_type": "stream",
     "text": [
      "Using cache found in /root/.cache/torch/hub/pytorch_vision_v0.10.0\n",
      "/opt/conda/lib/python3.7/site-packages/torchaudio/functional/functional.py:508: UserWarning: At least one mel filterbank has all zero values. The value for `n_mels` (128) may be set too high. Or, the value for `n_freqs` (201) may be set too low.\n",
      "  \"At least one mel filterbank has all zero values. \"\n"
     ]
    }
   ],
   "source": [
    "model = EDResNet()\n",
    "checkpoint = torch.load(Torch_model)\n",
    "model.load_state_dict(checkpoint)\n",
    "model.to(device)\n",
    "model.eval()\n",
    "\n",
    "SUBMISION_PATH = Path(\"../input/itmo-acoustic-event-detection-2022/audio_test\")\n",
    "submission = pd.read_csv(SUBMISION_PATH / \"../sample_submission.csv\")\n",
    "submission[\"name\"] = submission[\"fname\"]\n",
    "func = lambda x: str(SUBMISION_PATH / \"test\" / x)\n",
    "submission[\"fname\"] = submission.fname.apply(func)\n",
    "submission[\"int_label\"] = 0\n",
    "submission[\"type\"] = \"orig\"\n",
    "sub_ds, _, _ = EventDetectionDataset.train_test_split(submission,\n",
    "                                                       train_len_feats=400, \n",
    "                                                       train_size=1, \n",
    "                                                       need_feets=True)\n",
    "sub_ds.aug=False\n",
    "sub_loader = DataLoader(sub_ds, batch_size=2, shuffle=False)\n",
    "predicted = []\n",
    "true = []\n",
    "for X, y in sub_loader:\n",
    "    X, y = X.to(device), y.to(device)\n",
    "\n",
    "    pred_t = model(X)\n",
    "    _, tar = loss_fn(pred_t, y)\n",
    "\n",
    "    predicted.append(tar.detach().cpu().numpy().argmax(axis=-1))\n",
    "#     predicted.append(pred_t.detach().cpu().numpy().argmax(axis=-1))\n",
    "\n",
    "predicted = np.concatenate(predicted)\n",
    "\n",
    "submission[\"int_lable\"] = predicted\n",
    "submission[\"label\"] = label_transformer.inverse_transform(submission[\"int_lable\"].to_numpy()[:, np.newaxis])[:, 0]\n",
    "submission[\"fname\"] = submission[\"name\"]\n",
    "submission = submission.drop(columns=[\"name\", \"int_label\", \"type\", \"int_lable\"])"
   ]
  },
  {
   "cell_type": "code",
   "execution_count": 11,
   "id": "dc8bee4c",
   "metadata": {
    "execution": {
     "iopub.execute_input": "2022-07-02T06:46:30.909339Z",
     "iopub.status.busy": "2022-07-02T06:46:30.909049Z",
     "iopub.status.idle": "2022-07-02T06:46:30.925263Z",
     "shell.execute_reply": "2022-07-02T06:46:30.924451Z"
    },
    "papermill": {
     "duration": 0.031699,
     "end_time": "2022-07-02T06:46:30.927263",
     "exception": false,
     "start_time": "2022-07-02T06:46:30.895564",
     "status": "completed"
    },
    "tags": []
   },
   "outputs": [],
   "source": [
    "# submission[\"fname\"] = submission[\"name\"]\n",
    "submission.to_csv(\"submission.csv\", index=False)"
   ]
  },
  {
   "cell_type": "code",
   "execution_count": null,
   "id": "fe157a7f",
   "metadata": {
    "papermill": {
     "duration": 0.012935,
     "end_time": "2022-07-02T06:46:30.953385",
     "exception": false,
     "start_time": "2022-07-02T06:46:30.940450",
     "status": "completed"
    },
    "tags": []
   },
   "outputs": [],
   "source": []
  }
 ],
 "metadata": {
  "kernelspec": {
   "display_name": "Python 3",
   "language": "python",
   "name": "python3"
  },
  "language_info": {
   "codemirror_mode": {
    "name": "ipython",
    "version": 3
   },
   "file_extension": ".py",
   "mimetype": "text/x-python",
   "name": "python",
   "nbconvert_exporter": "python",
   "pygments_lexer": "ipython3",
   "version": "3.7.12"
  },
  "papermill": {
   "default_parameters": {},
   "duration": 935.297487,
   "end_time": "2022-07-02T06:46:32.592432",
   "environment_variables": {},
   "exception": null,
   "input_path": "__notebook__.ipynb",
   "output_path": "__notebook__.ipynb",
   "parameters": {},
   "start_time": "2022-07-02T06:30:57.294945",
   "version": "2.3.4"
  },
  "widgets": {
   "application/vnd.jupyter.widget-state+json": {
    "state": {
     "03c12c54324f47d6a749735239b2c1a5": {
      "model_module": "@jupyter-widgets/base",
      "model_module_version": "1.2.0",
      "model_name": "LayoutModel",
      "state": {
       "_model_module": "@jupyter-widgets/base",
       "_model_module_version": "1.2.0",
       "_model_name": "LayoutModel",
       "_view_count": null,
       "_view_module": "@jupyter-widgets/base",
       "_view_module_version": "1.2.0",
       "_view_name": "LayoutView",
       "align_content": null,
       "align_items": null,
       "align_self": null,
       "border": null,
       "bottom": null,
       "display": null,
       "flex": null,
       "flex_flow": null,
       "grid_area": null,
       "grid_auto_columns": null,
       "grid_auto_flow": null,
       "grid_auto_rows": null,
       "grid_column": null,
       "grid_gap": null,
       "grid_row": null,
       "grid_template_areas": null,
       "grid_template_columns": null,
       "grid_template_rows": null,
       "height": null,
       "justify_content": null,
       "justify_items": null,
       "left": null,
       "margin": null,
       "max_height": null,
       "max_width": null,
       "min_height": null,
       "min_width": null,
       "object_fit": null,
       "object_position": null,
       "order": null,
       "overflow": null,
       "overflow_x": null,
       "overflow_y": null,
       "padding": null,
       "right": null,
       "top": null,
       "visibility": null,
       "width": null
      }
     },
     "06cfd953db2d4750b3467e7f1d78fd1d": {
      "model_module": "@jupyter-widgets/controls",
      "model_module_version": "1.5.0",
      "model_name": "HTMLModel",
      "state": {
       "_dom_classes": [],
       "_model_module": "@jupyter-widgets/controls",
       "_model_module_version": "1.5.0",
       "_model_name": "HTMLModel",
       "_view_count": null,
       "_view_module": "@jupyter-widgets/controls",
       "_view_module_version": "1.5.0",
       "_view_name": "HTMLView",
       "description": "",
       "description_tooltip": null,
       "layout": "IPY_MODEL_c321c1861aee479fb6b395b590d0a594",
       "placeholder": "​",
       "style": "IPY_MODEL_a6535b41082541ebbee062110aba4b0c",
       "value": " 13.6M/13.6M [00:01&lt;00:00, 19.6MB/s]"
      }
     },
     "27741445f2f74104906298a754c4e004": {
      "model_module": "@jupyter-widgets/controls",
      "model_module_version": "1.5.0",
      "model_name": "ProgressStyleModel",
      "state": {
       "_model_module": "@jupyter-widgets/controls",
       "_model_module_version": "1.5.0",
       "_model_name": "ProgressStyleModel",
       "_view_count": null,
       "_view_module": "@jupyter-widgets/base",
       "_view_module_version": "1.2.0",
       "_view_name": "StyleView",
       "bar_color": null,
       "description_width": ""
      }
     },
     "584b3681d01e495d93a41760fd888072": {
      "model_module": "@jupyter-widgets/base",
      "model_module_version": "1.2.0",
      "model_name": "LayoutModel",
      "state": {
       "_model_module": "@jupyter-widgets/base",
       "_model_module_version": "1.2.0",
       "_model_name": "LayoutModel",
       "_view_count": null,
       "_view_module": "@jupyter-widgets/base",
       "_view_module_version": "1.2.0",
       "_view_name": "LayoutView",
       "align_content": null,
       "align_items": null,
       "align_self": null,
       "border": null,
       "bottom": null,
       "display": null,
       "flex": null,
       "flex_flow": null,
       "grid_area": null,
       "grid_auto_columns": null,
       "grid_auto_flow": null,
       "grid_auto_rows": null,
       "grid_column": null,
       "grid_gap": null,
       "grid_row": null,
       "grid_template_areas": null,
       "grid_template_columns": null,
       "grid_template_rows": null,
       "height": null,
       "justify_content": null,
       "justify_items": null,
       "left": null,
       "margin": null,
       "max_height": null,
       "max_width": null,
       "min_height": null,
       "min_width": null,
       "object_fit": null,
       "object_position": null,
       "order": null,
       "overflow": null,
       "overflow_x": null,
       "overflow_y": null,
       "padding": null,
       "right": null,
       "top": null,
       "visibility": null,
       "width": null
      }
     },
     "74f5fcb4507544499f01ed8d7a34d331": {
      "model_module": "@jupyter-widgets/controls",
      "model_module_version": "1.5.0",
      "model_name": "FloatProgressModel",
      "state": {
       "_dom_classes": [],
       "_model_module": "@jupyter-widgets/controls",
       "_model_module_version": "1.5.0",
       "_model_name": "FloatProgressModel",
       "_view_count": null,
       "_view_module": "@jupyter-widgets/controls",
       "_view_module_version": "1.5.0",
       "_view_name": "ProgressView",
       "bar_style": "success",
       "description": "",
       "description_tooltip": null,
       "layout": "IPY_MODEL_584b3681d01e495d93a41760fd888072",
       "max": 14212972.0,
       "min": 0.0,
       "orientation": "horizontal",
       "style": "IPY_MODEL_27741445f2f74104906298a754c4e004",
       "value": 14212972.0
      }
     },
     "a6535b41082541ebbee062110aba4b0c": {
      "model_module": "@jupyter-widgets/controls",
      "model_module_version": "1.5.0",
      "model_name": "DescriptionStyleModel",
      "state": {
       "_model_module": "@jupyter-widgets/controls",
       "_model_module_version": "1.5.0",
       "_model_name": "DescriptionStyleModel",
       "_view_count": null,
       "_view_module": "@jupyter-widgets/base",
       "_view_module_version": "1.2.0",
       "_view_name": "StyleView",
       "description_width": ""
      }
     },
     "b3f84d1bf6ca495a98ceef5cef7f91bb": {
      "model_module": "@jupyter-widgets/controls",
      "model_module_version": "1.5.0",
      "model_name": "DescriptionStyleModel",
      "state": {
       "_model_module": "@jupyter-widgets/controls",
       "_model_module_version": "1.5.0",
       "_model_name": "DescriptionStyleModel",
       "_view_count": null,
       "_view_module": "@jupyter-widgets/base",
       "_view_module_version": "1.2.0",
       "_view_name": "StyleView",
       "description_width": ""
      }
     },
     "bc148bfc2a8c42cebf5d9f5dee53fa08": {
      "model_module": "@jupyter-widgets/base",
      "model_module_version": "1.2.0",
      "model_name": "LayoutModel",
      "state": {
       "_model_module": "@jupyter-widgets/base",
       "_model_module_version": "1.2.0",
       "_model_name": "LayoutModel",
       "_view_count": null,
       "_view_module": "@jupyter-widgets/base",
       "_view_module_version": "1.2.0",
       "_view_name": "LayoutView",
       "align_content": null,
       "align_items": null,
       "align_self": null,
       "border": null,
       "bottom": null,
       "display": null,
       "flex": null,
       "flex_flow": null,
       "grid_area": null,
       "grid_auto_columns": null,
       "grid_auto_flow": null,
       "grid_auto_rows": null,
       "grid_column": null,
       "grid_gap": null,
       "grid_row": null,
       "grid_template_areas": null,
       "grid_template_columns": null,
       "grid_template_rows": null,
       "height": null,
       "justify_content": null,
       "justify_items": null,
       "left": null,
       "margin": null,
       "max_height": null,
       "max_width": null,
       "min_height": null,
       "min_width": null,
       "object_fit": null,
       "object_position": null,
       "order": null,
       "overflow": null,
       "overflow_x": null,
       "overflow_y": null,
       "padding": null,
       "right": null,
       "top": null,
       "visibility": null,
       "width": null
      }
     },
     "c321c1861aee479fb6b395b590d0a594": {
      "model_module": "@jupyter-widgets/base",
      "model_module_version": "1.2.0",
      "model_name": "LayoutModel",
      "state": {
       "_model_module": "@jupyter-widgets/base",
       "_model_module_version": "1.2.0",
       "_model_name": "LayoutModel",
       "_view_count": null,
       "_view_module": "@jupyter-widgets/base",
       "_view_module_version": "1.2.0",
       "_view_name": "LayoutView",
       "align_content": null,
       "align_items": null,
       "align_self": null,
       "border": null,
       "bottom": null,
       "display": null,
       "flex": null,
       "flex_flow": null,
       "grid_area": null,
       "grid_auto_columns": null,
       "grid_auto_flow": null,
       "grid_auto_rows": null,
       "grid_column": null,
       "grid_gap": null,
       "grid_row": null,
       "grid_template_areas": null,
       "grid_template_columns": null,
       "grid_template_rows": null,
       "height": null,
       "justify_content": null,
       "justify_items": null,
       "left": null,
       "margin": null,
       "max_height": null,
       "max_width": null,
       "min_height": null,
       "min_width": null,
       "object_fit": null,
       "object_position": null,
       "order": null,
       "overflow": null,
       "overflow_x": null,
       "overflow_y": null,
       "padding": null,
       "right": null,
       "top": null,
       "visibility": null,
       "width": null
      }
     },
     "c5e124f4716c4c4c9caac8c91dd6cfd1": {
      "model_module": "@jupyter-widgets/controls",
      "model_module_version": "1.5.0",
      "model_name": "HTMLModel",
      "state": {
       "_dom_classes": [],
       "_model_module": "@jupyter-widgets/controls",
       "_model_module_version": "1.5.0",
       "_model_name": "HTMLModel",
       "_view_count": null,
       "_view_module": "@jupyter-widgets/controls",
       "_view_module_version": "1.5.0",
       "_view_name": "HTMLView",
       "description": "",
       "description_tooltip": null,
       "layout": "IPY_MODEL_bc148bfc2a8c42cebf5d9f5dee53fa08",
       "placeholder": "​",
       "style": "IPY_MODEL_b3f84d1bf6ca495a98ceef5cef7f91bb",
       "value": "100%"
      }
     },
     "cd32f9b5497b48c8a6854d4045152a92": {
      "model_module": "@jupyter-widgets/controls",
      "model_module_version": "1.5.0",
      "model_name": "HBoxModel",
      "state": {
       "_dom_classes": [],
       "_model_module": "@jupyter-widgets/controls",
       "_model_module_version": "1.5.0",
       "_model_name": "HBoxModel",
       "_view_count": null,
       "_view_module": "@jupyter-widgets/controls",
       "_view_module_version": "1.5.0",
       "_view_name": "HBoxView",
       "box_style": "",
       "children": [
        "IPY_MODEL_c5e124f4716c4c4c9caac8c91dd6cfd1",
        "IPY_MODEL_74f5fcb4507544499f01ed8d7a34d331",
        "IPY_MODEL_06cfd953db2d4750b3467e7f1d78fd1d"
       ],
       "layout": "IPY_MODEL_03c12c54324f47d6a749735239b2c1a5"
      }
     }
    },
    "version_major": 2,
    "version_minor": 0
   }
  }
 },
 "nbformat": 4,
 "nbformat_minor": 5
}
